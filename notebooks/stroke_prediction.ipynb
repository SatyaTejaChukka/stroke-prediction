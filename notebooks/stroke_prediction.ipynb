{
 "cells": [
  {
   "cell_type": "markdown",
   "id": "a0bb09e5",
   "metadata": {},
   "source": [
    "# Heart Stroke Prediction"
   ]
  },
  {
   "cell_type": "markdown",
   "id": "d847be76",
   "metadata": {},
   "source": [
    "## Importing Libraries"
   ]
  },
  {
   "cell_type": "code",
   "execution_count": 1,
   "id": "9cc93141",
   "metadata": {},
   "outputs": [],
   "source": [
    "import numpy as np\n",
    "import pandas as pd\n",
    "from sklearn.model_selection import train_test_split\n",
    "from sklearn.preprocessing import MinMaxScaler\n",
    "from sklearn.linear_model import LinearRegression, LogisticRegression\n",
    "from sklearn.neighbors import KNeighborsClassifier\n",
    "from sklearn.ensemble import RandomForestClassifier\n",
    "from xgboost import XGBClassifier\n",
    "from sklearn.naive_bayes import GaussianNB\n",
    "from sklearn.metrics import accuracy_score\n",
    "from sklearn.ensemble import VotingClassifier"
   ]
  },
  {
   "cell_type": "markdown",
   "id": "20122165",
   "metadata": {},
   "source": [
    "## Importing Dataset"
   ]
  },
  {
   "cell_type": "code",
   "execution_count": 24,
   "id": "47d2ff63",
   "metadata": {},
   "outputs": [
    {
     "name": "stderr",
     "output_type": "stream",
     "text": [
      "C:\\Users\\satya\\AppData\\Local\\Temp\\ipykernel_23204\\2773647635.py:5: DeprecationWarning: load_dataset is deprecated and will be removed in a future version.\n",
      "  df = kagglehub.load_dataset(\n"
     ]
    },
    {
     "name": "stdout",
     "output_type": "stream",
     "text": [
      "First 5 records:       id  gender   age  hypertension  heart_disease ever_married  \\\n",
      "0   9046    Male  67.0             0              1          Yes   \n",
      "1  51676  Female  61.0             0              0          Yes   \n",
      "2  31112    Male  80.0             0              1          Yes   \n",
      "3  60182  Female  49.0             0              0          Yes   \n",
      "4   1665  Female  79.0             1              0          Yes   \n",
      "\n",
      "       work_type Residence_type  avg_glucose_level   bmi   smoking_status  \\\n",
      "0        Private          Urban             228.69  36.6  formerly smoked   \n",
      "1  Self-employed          Rural             202.21   NaN     never smoked   \n",
      "2        Private          Rural             105.92  32.5     never smoked   \n",
      "3        Private          Urban             171.23  34.4           smokes   \n",
      "4  Self-employed          Rural             174.12  24.0     never smoked   \n",
      "\n",
      "   stroke  \n",
      "0       1  \n",
      "1       1  \n",
      "2       1  \n",
      "3       1  \n",
      "4       1  \n"
     ]
    }
   ],
   "source": [
    "import kagglehub\n",
    "from kagglehub import KaggleDatasetAdapter\n",
    "\n",
    "# Load directly from Kaggle \n",
    "df = kagglehub.load_dataset(\n",
    "    KaggleDatasetAdapter.PANDAS,\n",
    "    \"fedesoriano/stroke-prediction-dataset\",\n",
    "    \"healthcare-dataset-stroke-data.csv\"  \n",
    ")\n",
    "print(\"First 5 records:\", df.head())\n",
    "\n",
    "df.to_csv('stroke_dataset.csv', index=False)"
   ]
  },
  {
   "cell_type": "markdown",
   "id": "9bca673a",
   "metadata": {},
   "source": [
    "## Data Null Counts and Info"
   ]
  },
  {
   "cell_type": "code",
   "execution_count": null,
   "id": "ad0d31fa",
   "metadata": {},
   "outputs": [
    {
     "name": "stdout",
     "output_type": "stream",
     "text": [
      "Dataset shape: (5110, 12)\n",
      "\n",
      "=== Checking for Null Values ===\n",
      "Non-null count per column:\n",
      "id                   5110\n",
      "gender               5110\n",
      "age                  5110\n",
      "hypertension         5110\n",
      "heart_disease        5110\n",
      "ever_married         5110\n",
      "work_type            5110\n",
      "Residence_type       5110\n",
      "avg_glucose_level    5110\n",
      "bmi                  5110\n",
      "smoking_status       5110\n",
      "stroke               5110\n",
      "dtype: int64\n",
      "\n",
      "Null count per column:\n",
      "id                     0\n",
      "gender                 0\n",
      "age                    0\n",
      "hypertension           0\n",
      "heart_disease          0\n",
      "ever_married           0\n",
      "work_type              0\n",
      "Residence_type         0\n",
      "avg_glucose_level      0\n",
      "bmi                  201\n",
      "smoking_status         0\n",
      "stroke                 0\n",
      "dtype: int64\n",
      "\n",
      "Total null values in dataset: 201\n",
      "\n",
      "Info about the dataset:\n",
      "<class 'pandas.core.frame.DataFrame'>\n",
      "RangeIndex: 5110 entries, 0 to 5109\n",
      "Data columns (total 12 columns):\n",
      " #   Column             Non-Null Count  Dtype  \n",
      "---  ------             --------------  -----  \n",
      " 0   id                 5110 non-null   int64  \n",
      " 1   gender             5110 non-null   object \n",
      " 2   age                5110 non-null   float64\n",
      " 3   hypertension       5110 non-null   int64  \n",
      " 4   heart_disease      5110 non-null   int64  \n",
      " 5   ever_married       5110 non-null   object \n",
      " 6   work_type          5110 non-null   object \n",
      " 7   Residence_type     5110 non-null   object \n",
      " 8   avg_glucose_level  5110 non-null   float64\n",
      " 9   bmi                4909 non-null   float64\n",
      " 10  smoking_status     5110 non-null   object \n",
      " 11  stroke             5110 non-null   int64  \n",
      "dtypes: float64(3), int64(4), object(5)\n",
      "memory usage: 479.2+ KB\n",
      "None\n"
     ]
    }
   ],
   "source": [
    "data = pd.read_csv('stroke_dataset.csv')\n",
    "print(\"Dataset shape:\", data.shape)\n",
    "print(\"\\n=== Checking for Null Values ===\")\n",
    "print(\"Non-null count per column:\")\n",
    "print(data.isnull().count())  # This counts NON-NULL values\n",
    "print(\"\\nNull count per column:\")\n",
    "print(data.isnull().sum())    # This counts NULL values\n",
    "print(\"\\nTotal null values in dataset:\", data.isnull().sum().sum())\n",
    "print(\"\\nInfo about the dataset:\")\n",
    "print(data.info())"
   ]
  },
  {
   "cell_type": "markdown",
   "id": "1cc028d1",
   "metadata": {},
   "source": [
    "## Data Preprocessing"
   ]
  },
  {
   "cell_type": "markdown",
   "id": "e1d35328",
   "metadata": {},
   "source": [
    "### Handling Missing Values"
   ]
  },
  {
   "cell_type": "code",
   "execution_count": 4,
   "id": "1596a54e",
   "metadata": {},
   "outputs": [],
   "source": [
    "data['bmi'] = data['bmi'].fillna(data['bmi'].median())"
   ]
  },
  {
   "cell_type": "markdown",
   "id": "5c13dbac",
   "metadata": {},
   "source": [
    "### Convert categorical variables to numerical"
   ]
  },
  {
   "cell_type": "code",
   "execution_count": 5,
   "id": "9793cd73",
   "metadata": {},
   "outputs": [],
   "source": [
    "\n",
    "data['gender'] = data['gender'].map({'Male': 0, 'Female': 1, 'Other': 2})\n",
    "data['ever_married'] = data['ever_married'].map({'No': 0, 'Yes': 1})\n",
    "data['work_type'] = data['work_type'].map({'children': 0, 'Govt_job': 1, 'Never_worked': 2, 'Private': 3, 'Self-employed': 4})\n",
    "data['Residence_type'] = data['Residence_type'].map({'Rural': 0, 'Urban': 1})\n",
    "data['smoking_status'] = data['smoking_status'].map({'formerly smoked': 0, 'never smoked': 1, 'smokes': 2, 'Unknown': 3})\n"
   ]
  },
  {
   "cell_type": "markdown",
   "id": "ab98958f",
   "metadata": {},
   "source": [
    "### Split data into train and test sets"
   ]
  },
  {
   "cell_type": "code",
   "execution_count": 6,
   "id": "38191765",
   "metadata": {},
   "outputs": [],
   "source": [
    "# Drop id column\n",
    "data.drop('id', axis=1, inplace=True)\n",
    "\n",
    "\n",
    "X = data.drop('stroke', axis=1)\n",
    "y = data['stroke']\n",
    "\n",
    "\n",
    "# Split data into train and test sets\n",
    "X_train, X_test, y_train, y_test = train_test_split(X, y, test_size=0.2, random_state=42)"
   ]
  },
  {
   "cell_type": "markdown",
   "id": "71f13d7c",
   "metadata": {},
   "source": [
    "### Apply MinMax scaling"
   ]
  },
  {
   "cell_type": "code",
   "execution_count": 7,
   "id": "4381ed92",
   "metadata": {},
   "outputs": [],
   "source": [
    "scaler = MinMaxScaler()\n",
    "X_train_scaled = scaler.fit_transform(X_train)\n",
    "X_test_scaled = scaler.transform(X_test)"
   ]
  },
  {
   "cell_type": "markdown",
   "id": "5acfa185",
   "metadata": {},
   "source": [
    "## Individual Model Training and Evaluation"
   ]
  },
  {
   "cell_type": "markdown",
   "id": "01b3dbf2",
   "metadata": {},
   "source": [
    "### Initial Models"
   ]
  },
  {
   "cell_type": "code",
   "execution_count": 8,
   "id": "d7835c83",
   "metadata": {},
   "outputs": [
    {
     "name": "stdout",
     "output_type": "stream",
     "text": [
      "Logistic Regression Accuracy: 0.9393\n",
      "KNN Accuracy: 0.9374\n",
      "Random Forest Accuracy: 0.9384\n",
      "XGBoost Accuracy: 0.9393\n",
      "Naive Bayes Accuracy: 0.8659\n"
     ]
    }
   ],
   "source": [
    "\n",
    "models = {\n",
    "    \"Logistic Regression\": LogisticRegression(max_iter=1000),\n",
    "    \"KNN\": KNeighborsClassifier(),\n",
    "    \"Random Forest\": RandomForestClassifier(random_state=42),\n",
    "    \"XGBoost\": XGBClassifier(random_state=42, eval_metric='logloss'),\n",
    "    \"Naive Bayes\": GaussianNB()\n",
    "}\n",
    "\n",
    "\n",
    "# Train and evaluate individual models\n",
    "individual_accuracies = {}\n",
    "\n",
    "for name, model in models.items():\n",
    "    \n",
    "    model.fit(X_train_scaled, y_train)\n",
    "    predictions = model.predict(X_test_scaled)\n",
    "\n",
    "    accuracy = accuracy_score(y_test, predictions)\n",
    "    individual_accuracies[name] = accuracy\n",
    "    print(f\"{name} Accuracy: {accuracy:.4f}\")"
   ]
  },
  {
   "cell_type": "markdown",
   "id": "12b8f02b",
   "metadata": {},
   "source": [
    "### Updated Models"
   ]
  },
  {
   "cell_type": "code",
   "execution_count": 9,
   "id": "38a44c31",
   "metadata": {},
   "outputs": [],
   "source": [
    "updated_models = {\n",
    "    \"Logistic Regression\": LogisticRegression(max_iter=1000, class_weight='balanced', C=0.1),\n",
    "    \"KNN\": KNeighborsClassifier(n_neighbors=7, weights='distance'),\n",
    "    \"Random Forest\": RandomForestClassifier(random_state=42, class_weight='balanced_subsample', max_depth=5),\n",
    "    \"XGBoost\": XGBClassifier(random_state=42, scale_pos_weight=len(y_train[y_train==0])/len(y_train[y_train==1]), eval_metric='logloss'),\n",
    "    \"Naive Bayes\": GaussianNB()\n",
    "}\n",
    "\n",
    "\n",
    "for name, model in updated_models.items():\n",
    "    model.fit(X_train_scaled, y_train)"
   ]
  },
  {
   "cell_type": "code",
   "execution_count": 10,
   "id": "540c3f5a",
   "metadata": {},
   "outputs": [
    {
     "name": "stdout",
     "output_type": "stream",
     "text": [
      "\n",
      "=== Detailed Model Evaluation ===\n",
      "\n",
      "Logistic Regression Performance:\n",
      "              precision    recall  f1-score   support\n",
      "\n",
      "           0       0.98      0.74      0.85       960\n",
      "           1       0.16      0.77      0.27        62\n",
      "\n",
      "    accuracy                           0.74      1022\n",
      "   macro avg       0.57      0.76      0.56      1022\n",
      "weighted avg       0.93      0.74      0.81      1022\n",
      "\n",
      "ROC AUC: 0.8527\n",
      "\n",
      "KNN Performance:\n",
      "              precision    recall  f1-score   support\n",
      "\n",
      "           0       0.94      1.00      0.97       960\n",
      "           1       0.33      0.02      0.03        62\n",
      "\n",
      "    accuracy                           0.94      1022\n",
      "   macro avg       0.64      0.51      0.50      1022\n",
      "weighted avg       0.90      0.94      0.91      1022\n",
      "\n",
      "ROC AUC: 0.6713\n",
      "\n",
      "Random Forest Performance:\n",
      "              precision    recall  f1-score   support\n",
      "\n",
      "           0       0.98      0.79      0.87       960\n",
      "           1       0.19      0.76      0.30        62\n",
      "\n",
      "    accuracy                           0.79      1022\n",
      "   macro avg       0.58      0.77      0.59      1022\n",
      "weighted avg       0.93      0.79      0.84      1022\n",
      "\n",
      "ROC AUC: 0.8486\n",
      "\n",
      "XGBoost Performance:\n",
      "              precision    recall  f1-score   support\n",
      "\n",
      "           0       0.95      0.96      0.95       960\n",
      "           1       0.23      0.19      0.21        62\n",
      "\n",
      "    accuracy                           0.91      1022\n",
      "   macro avg       0.59      0.58      0.58      1022\n",
      "weighted avg       0.90      0.91      0.91      1022\n",
      "\n",
      "ROC AUC: 0.7767\n",
      "\n",
      "Naive Bayes Performance:\n",
      "              precision    recall  f1-score   support\n",
      "\n",
      "           0       0.96      0.89      0.93       960\n",
      "           1       0.22      0.48      0.30        62\n",
      "\n",
      "    accuracy                           0.87      1022\n",
      "   macro avg       0.59      0.69      0.62      1022\n",
      "weighted avg       0.92      0.87      0.89      1022\n",
      "\n",
      "ROC AUC: 0.8314\n"
     ]
    }
   ],
   "source": [
    "from sklearn.metrics import classification_report, roc_auc_score\n",
    "\n",
    "def evaluate_model(model, name, X_test, y_test):\n",
    "    preds = model.predict(X_test)\n",
    "    print(f\"\\n{name} Performance:\")\n",
    "    print(classification_report(y_test, preds))\n",
    "    if hasattr(model, 'predict_proba'):\n",
    "        print(f\"ROC AUC: {roc_auc_score(y_test, model.predict_proba(X_test)[:,1]):.4f}\")\n",
    "    return accuracy_score(y_test, preds)\n",
    "\n",
    "\n",
    "# Evaluate all models\n",
    "print(\"\\n=== Detailed Model Evaluation ===\")\n",
    "individual_accuracies = {}\n",
    "for name, model in updated_models.items():\n",
    "    individual_accuracies[name] = evaluate_model(model, name, X_test_scaled, y_test)"
   ]
  },
  {
   "cell_type": "code",
   "execution_count": 11,
   "id": "61d3f033",
   "metadata": {},
   "outputs": [
    {
     "name": "stdout",
     "output_type": "stream",
     "text": [
      "\n",
      "====Model Accuracies:=====\n",
      "Logistic Regression: 0.7446\n",
      "KNN: 0.9384\n",
      "Random Forest: 0.7877\n",
      "XGBoost: 0.9110\n",
      "Naive Bayes: 0.8659\n"
     ]
    },
    {
     "data": {
      "image/png": "[encoded data removed]",
      "text/plain": [
       "<Figure size 1000x600 with 1 Axes>"
      ]
     },
     "metadata": {},
     "output_type": "display_data"
    }
   ],
   "source": [
    "\n",
    "# Display all accuracies\n",
    "print(\"\\n====Model Accuracies:=====\")\n",
    "for name, accuracy in individual_accuracies.items():\n",
    "    print(f\"{name}: {accuracy:.4f}\")\n",
    "\n",
    "\n",
    "# Plot the results\n",
    "import matplotlib.pyplot as plt\n",
    "\n",
    "plt.figure(figsize=(10, 6))\n",
    "plt.bar(individual_accuracies.keys(), individual_accuracies.values())\n",
    "plt.xticks(rotation=45)\n",
    "plt.ylabel('Accuracy')\n",
    "plt.title('Model Comparison')\n",
    "plt.ylim(0, 1)\n",
    "plt.show()"
   ]
  },
  {
   "cell_type": "markdown",
   "id": "6ebe1b52",
   "metadata": {},
   "source": [
    "## Cross Checking and conclusions on the results and accuracies"
   ]
  },
  {
   "cell_type": "code",
   "execution_count": 17,
   "id": "1d8de9cf",
   "metadata": {},
   "outputs": [
    {
     "name": "stdout",
     "output_type": "stream",
     "text": [
      "Number of rows with No Stroke: data['stroke'] == 0 ---> 4861\n",
      "Number of rows with Stroke : data['stroke'] == 1 ---> 249\n"
     ]
    }
   ],
   "source": [
    "print(\"Number of rows with No Stroke: data['stroke'] == 0 --->\", (data['stroke']==0).sum())\n",
    "print(\"Number of rows with Stroke : data['stroke'] == 1 --->\", (data['stroke'] == 1).sum())\n"
   ]
  },
  {
   "cell_type": "markdown",
   "id": "3a76ff82",
   "metadata": {},
   "source": [
    "Even though the accuracy of some models is great, we cant tell that the model is working very well because the data it gets for the prediction may be of the **majority class**.\n",
    "\n",
    "**So we cannot solely rely on the accuracy numbers of the models.**\n",
    "\n",
    "We also have to check the **F1-score** and **Recall** of the model to conclude that a specific model is performig well.\n",
    "\n",
    "\n",
    "That means accuracy alone is misleading — a model can predict mostly “0” and still be >90% accurate while failing on class 1.\n",
    "\n",
    "Minority Class Performance (class 1) is critical here:\n",
    "This is measured by recall (sensitivity) and precision for class 1."
   ]
  },
  {
   "cell_type": "markdown",
   "id": "76b2cd77",
   "metadata": {},
   "source": [
    "| Model               | Accuracy | Recall (1) | Precision (1) | F1 (1)   | ROC AUC    |\n",
    "| ------------------- | -------- | ---------- | ------------- | -------- | ---------- |\n",
    "| Logistic Regression | 0.74     | **0.77**   | 0.16          | **0.27** | **0.8527** |\n",
    "| KNN                 | 0.94     | 0.02       | 0.33          | 0.03     | 0.6713     |\n",
    "| Random Forest       | 0.79     | **0.76**   | 0.19          | **0.30** | **0.8486** |\n",
    "| XGBoost             | 0.91     | 0.19       | 0.23          | 0.21     | 0.7767     |\n",
    "| Naive Bayes         | 0.87     | 0.48       | 0.22          | 0.30     | 0.8314     |\n",
    "\n"
   ]
  },
  {
   "cell_type": "markdown",
   "id": "60ddf0dd",
   "metadata": {},
   "source": [
    "#### Logistic Regression & Random Forest Win\n",
    "\n",
    "- Both have high recall (~0.76–0.77) → They catch most positives.\n",
    "\n",
    "- Both have high ROC AUC (~0.85) → They separate classes well.\n",
    "\n",
    "- Business value: In churn/fraud/medical detection, catching positives is priority — these models do that best.\n",
    "\n",
    "Choice depends on tolerance for false positives:\n",
    "\n",
    "- If you don’t mind many false alarms to catch almost every churner → Logistic Regression.\n",
    "\n",
    "- If you want high recall but with slightly fewer false alarms → Random Forest."
   ]
  },
  {
   "cell_type": "markdown",
   "id": "9a74b622",
   "metadata": {},
   "source": [
    "## Final Model for Consideration"
   ]
  },
  {
   "cell_type": "code",
   "execution_count": 20,
   "id": "74c2901d",
   "metadata": {},
   "outputs": [
    {
     "name": "stdout",
     "output_type": "stream",
     "text": [
      "0.7876712328767124\n"
     ]
    }
   ],
   "source": [
    "rfc = RandomForestClassifier(random_state=42, class_weight='balanced_subsample', max_depth=5)\n",
    "rfc.fit(X_train_scaled, y_train)\n",
    "predicts = rfc.predict(X_test_scaled)\n",
    "print(accuracy_score(y_test,predicts))"
   ]
  },
  {
   "cell_type": "markdown",
   "id": "5d0c1507",
   "metadata": {},
   "source": [
    "## Pickling of the model"
   ]
  },
  {
   "cell_type": "code",
   "execution_count": 21,
   "id": "e29d3ced",
   "metadata": {},
   "outputs": [
    {
     "name": "stdout",
     "output_type": "stream",
     "text": [
      "Model has been pickled and saved as 'model.pkl'\n"
     ]
    }
   ],
   "source": [
    "import pickle\n",
    "\n",
    "with open('model.pkl', 'wb') as f:\n",
    "    pickle.dump(rfc,f)\n",
    "    \n",
    "print(\"Model has been pickled and saved as 'model.pkl'\")"
   ]
  }
 ],
 "metadata": {
  "kernelspec": {
   "display_name": ".myenv",
   "language": "python",
   "name": "python3"
  },
  "language_info": {
   "codemirror_mode": {
    "name": "ipython",
    "version": 3
   },
   "file_extension": ".py",
   "mimetype": "text/x-python",
   "name": "python",
   "nbconvert_exporter": "python",
   "pygments_lexer": "ipython3",
   "version": "3.12.9"
  }
 },
 "nbformat": 4,
 "nbformat_minor": 5
}
